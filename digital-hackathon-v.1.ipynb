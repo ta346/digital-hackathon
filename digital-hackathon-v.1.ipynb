{
 "cells": [
  {
   "cell_type": "code",
   "execution_count": 1,
   "id": "outstanding-handbook",
   "metadata": {},
   "outputs": [],
   "source": [
    "#!pip install earthengine-api\n",
    "#!pip install geehydro\n",
    "#!pip install geemap\n",
    "#!pip install geetools"
   ]
  },
  {
   "cell_type": "code",
   "execution_count": 2,
   "id": "modified-aberdeen",
   "metadata": {},
   "outputs": [],
   "source": [
    "import ee\n",
    "import folium\n",
    "import geemap\n",
    "import geetools\n",
    "import os"
   ]
  },
  {
   "cell_type": "code",
   "execution_count": 3,
   "id": "invalid-pierce",
   "metadata": {},
   "outputs": [],
   "source": [
    "# Authenticate & Initializing\n",
    "#ee.Authenticate()\n",
    "ee.Initialize()"
   ]
  },
  {
   "cell_type": "markdown",
   "id": "sporting-livestock",
   "metadata": {},
   "source": [
    "### NDVI \n",
    "NDVI is a proxy for the plat productivity or a measure of the state of plant health.\n",
    "​\n",
    "wavelengths: nir - 800nmred - 670nm\n",
    "formula: NDVI = (nir - red) / (nir + red)"
   ]
  },
  {
   "cell_type": "code",
   "execution_count": 4,
   "id": "confused-nursing",
   "metadata": {},
   "outputs": [],
   "source": [
    "def ndviFun_sent(im):\n",
    "  ndvi = im.normalizedDifference(['B8','B4']).rename('ndvi')\n",
    "  return im.addBands(ndvi)"
   ]
  },
  {
   "cell_type": "markdown",
   "id": "static-species",
   "metadata": {},
   "source": [
    "### NDWI\n",
    "\n",
    "NDWI returns normalized difference water index. It monitor changes in water content of leaves.\n",
    "\n",
    "Formula: NIR - 860nm, SWIR - 1240nm\n",
    "NDWI = (NIR - SWIR) / (NIR + SWIR)"
   ]
  },
  {
   "cell_type": "code",
   "execution_count": 5,
   "id": "blond-breach",
   "metadata": {},
   "outputs": [],
   "source": [
    "def ndwiFun_sent(im):\n",
    "  ndwi = im.normalizedDifference(['B4','B11']).rename('ndwi')\n",
    "  return im.addBands(ndwi)"
   ]
  },
  {
   "cell_type": "markdown",
   "id": "dangerous-apollo",
   "metadata": {},
   "source": [
    "### RGRI \n",
    "The Red Green Ratio Index is a measure of the ratio between the\n",
    "reflectance in the Red Band and the Green Band.\n",
    "This index is a reflectance measurement that indicates the relative\n",
    "expression of leaf redness causedb y anthocyanin to that of chlorophyll.\n",
    "The Red Green Ratio has been used to estimate the course of foliage\n",
    "development in canopies. It is an indicator of leaf production and stress,\n",
    "and it may also indicate flowering in some canopies. Applications include\n",
    "plant growth cycle (phenology) studies, canopy stress detection, and crop\n",
    "yield prediction. Results are reported as the mean of all bands in the red\n",
    "range divided by the mean of all bands in the green range."
   ]
  },
  {
   "cell_type": "code",
   "execution_count": 6,
   "id": "vertical-baghdad",
   "metadata": {},
   "outputs": [],
   "source": [
    "def rgriFun_sent(im):\n",
    "    green = im.select('B3') # get green band\n",
    "    red = im.select('B4') # get red band\n",
    "    rgri = red.divide(green).rename('rgri')\n",
    "    return im.addBands(rgri)"
   ]
  },
  {
   "cell_type": "code",
   "execution_count": 7,
   "id": "linear-flash",
   "metadata": {},
   "outputs": [],
   "source": [
    "shp = ee.FeatureCollection('users/ta346/tompkins-ag-district')"
   ]
  },
  {
   "cell_type": "code",
   "execution_count": 8,
   "id": "confused-infrared",
   "metadata": {},
   "outputs": [],
   "source": [
    "from geetools import cloud_mask\n",
    "mask_LS_SR = cloud_mask.sentinel2()\n",
    "\n",
    "sent = ee.ImageCollection('COPERNICUS/S2_SR') \\\n",
    "    .filterBounds(shp) \\\n",
    "    .filter(ee.Filter.dayOfYear(150, 240)) \\\n",
    "    .filterDate('2020-05-01', '2020-08-31') \\\n",
    "    .map(mask_LS_SR) \\\n",
    "    .map(ndwiFun_sent) \\\n",
    "    .map(ndviFun_sent) \\\n",
    "    .map(rgriFun_sent)\n",
    "\n",
    "rgri = sent.select(\"rgri\")\n",
    "ndvi = sent.select(\"ndvi\")\n",
    "ndwi = sent.select(\"ndwi\")\n",
    "\n",
    "output_rgri = rgri.reduce(ee.Reducer.mean()).clip(shp)\n",
    "output_ndvi = ndvi.reduce(ee.Reducer.mean()).clip(shp)\n",
    "output_ndwi = ndwi.reduce(ee.Reducer.mean()).clip(shp) "
   ]
  },
  {
   "cell_type": "code",
   "execution_count": 9,
   "id": "mental-barrel",
   "metadata": {},
   "outputs": [],
   "source": [
    "rgri = [\"9D6539\",\"B17442\",\"C5834B\",\n",
    "        \"D99255\",\"B5A854\",\"92BE53\",\n",
    "        \"6FD452\",\"6DC84F\",\"6CBC4D\",\n",
    "        \"6BB04B\",\"6AA449\",\"699847\", \"688C45\"]\n",
    "\n",
    "def reverse_l(lst):\n",
    "    lst.reverse() \n",
    "    return lst\n",
    "\n",
    "# rgri color function to visualize later\n",
    "colorized_rgri = {\n",
    "    'min': 0.0,\n",
    "    'max': 1.0,\n",
    "    'palette': reverse_l(rgri)\n",
    "}\n",
    "\n",
    "# ndvi color function to visualize later\n",
    "colorized_ndvi = {\n",
    "  'min': 0.3,\n",
    "  'max': 1.0,\n",
    "  'palette': [\"FFFFFF\",\"CE7E45\",\"DF923D\",\n",
    "        'F1B555','FCD163','99B718',\n",
    "        '74A901','66A000','529400',\n",
    "        '3E8601','207401','056201',\n",
    "        '004C00', '023B01','012E01',\n",
    "        '011D01', '011301']\n",
    "}\n",
    "\n",
    "# ndwi color function to visualize later\n",
    "colorized_ndwi = {\n",
    "  'min': -1.0,\n",
    "  'max': 1.0,\n",
    "  'palette': ['0000ff', '00ffff', 'ffff00', 'ff0000', 'ffffff']\n",
    "}"
   ]
  },
  {
   "cell_type": "code",
   "execution_count": 10,
   "id": "vanilla-cocktail",
   "metadata": {
    "scrolled": false
   },
   "outputs": [],
   "source": [
    "Map_2 = geemap.Map()\n",
    "Map_2.add_basemap(basemap = \"SATELLITE\")\n",
    "#Map_2.basemap_demo()\n",
    "Map_2.centerObject(shp, zoom=10)"
   ]
  },
  {
   "cell_type": "code",
   "execution_count": 11,
   "id": "antique-guest",
   "metadata": {},
   "outputs": [],
   "source": [
    "Map_2.addLayer(shp, {}, \"tompkins-ag-district\", opacity = 0.7)"
   ]
  },
  {
   "cell_type": "code",
   "execution_count": 12,
   "id": "fabulous-harassment",
   "metadata": {},
   "outputs": [],
   "source": [
    "Map_2.addLayer(output_rgri, colorized_rgri, \"sentinal_rgri\")\n",
    "Map_2.addLayer(output_ndvi, colorized_ndvi, \"sentinal_ndvi\")\n",
    "Map_2.addLayer(output_ndwi, colorized_ndwi, \"seninal_ndwi\")"
   ]
  },
  {
   "cell_type": "code",
   "execution_count": 13,
   "id": "regulation-greek",
   "metadata": {},
   "outputs": [],
   "source": [
    "#pip install virtualenv"
   ]
  },
  {
   "cell_type": "code",
   "execution_count": 14,
   "id": "several-america",
   "metadata": {},
   "outputs": [
    {
     "name": "stdout",
     "output_type": "stream",
     "text": [
      "created virtual environment CPython3.9.1.final.0-64 in 6663ms\n",
      "  creator CPython3Windows(dest=C:\\Users\\khuse\\Dropbox\\Digital Hackathon\\sendsms, clear=False, no_vcs_ignore=False, global=False)\n",
      "  seeder FromAppData(download=False, pip=bundle, setuptools=bundle, wheel=bundle, via=copy, app_data_dir=C:\\Users\\khuse\\AppData\\Local\\pypa\\virtualenv)\n",
      "    added seed packages: pip==21.0.1, setuptools==52.0.0, setuptools==53.0.0, wheel==0.36.2\n",
      "  activators BashActivator,BatchActivator,FishActivator,PowerShellActivator,PythonActivator,XonshActivator\n"
     ]
    }
   ],
   "source": [
    "!virtualenv sendsms"
   ]
  },
  {
   "cell_type": "code",
   "execution_count": 15,
   "id": "biological-platform",
   "metadata": {},
   "outputs": [
    {
     "name": "stdout",
     "output_type": "stream",
     "text": [
      "\n",
      "(gee) C:\\Users\\khuse\\Dropbox\\Digital Hackathon>conda.bat activate  \n"
     ]
    }
   ],
   "source": [
    "!activate"
   ]
  },
  {
   "cell_type": "code",
   "execution_count": 16,
   "id": "german-bennett",
   "metadata": {},
   "outputs": [],
   "source": [
    "#pip install twilio>=6.0.0"
   ]
  },
  {
   "cell_type": "code",
   "execution_count": 17,
   "id": "continental-stable",
   "metadata": {
    "scrolled": true
   },
   "outputs": [
    {
     "data": {
      "application/vnd.jupyter.widget-view+json": {
       "model_id": "910c0863fb894e2c8be526cbb8b48c97",
       "version_major": 2,
       "version_minor": 0
      },
      "text/plain": [
       "Map(center=[42.4734929983418, -76.47636961932672], controls=(WidgetControl(options=['position', 'transparent_b…"
      ]
     },
     "metadata": {},
     "output_type": "display_data"
    }
   ],
   "source": [
    "Map_2"
   ]
  },
  {
   "cell_type": "code",
   "execution_count": 18,
   "id": "imperial-platinum",
   "metadata": {},
   "outputs": [
    {
     "data": {
      "text/plain": [
       "<Twilio.Api.V2010.MessageInstance account_sid=AC868e3ba4b6bb8ecd11c50f69961c7b79 sid=SM633081c788534d74936d30d3d0125f5f>"
      ]
     },
     "execution_count": 18,
     "metadata": {},
     "output_type": "execute_result"
    }
   ],
   "source": [
    "from twilio.rest import Client \n",
    "client = Client(\"AC868e3ba4b6bb8ecd11c50f69961c7b79\",\"b0f8f790262e8dc1a41a0b1a098a6da3\")\n",
    "client.messages.create(to=\"+13157412495\",from_=\"+17866500711\", body=\"Farm eTech : Plot 1 shows the low growth of plant productivity as NDVI has gone down by 4.2% as compared to that of last month\")"
   ]
  }
 ],
 "metadata": {
  "kernelspec": {
   "display_name": "Python 3",
   "language": "python",
   "name": "python3"
  },
  "language_info": {
   "codemirror_mode": {
    "name": "ipython",
    "version": 3
   },
   "file_extension": ".py",
   "mimetype": "text/x-python",
   "name": "python",
   "nbconvert_exporter": "python",
   "pygments_lexer": "ipython3",
   "version": "3.9.1"
  }
 },
 "nbformat": 4,
 "nbformat_minor": 5
}
